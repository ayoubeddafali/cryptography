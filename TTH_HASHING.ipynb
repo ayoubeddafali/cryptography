{
 "cells": [
  {
   "cell_type": "markdown",
   "metadata": {},
   "source": [
    " # Implementation of TTH \n"
   ]
  },
  {
   "cell_type": "code",
   "execution_count": 1,
   "metadata": {
    "collapsed": true
   },
   "outputs": [],
   "source": [
    "import numpy as np \n",
    "import random \n"
   ]
  },
  {
   "cell_type": "code",
   "execution_count": 2,
   "metadata": {
    "collapsed": true
   },
   "outputs": [],
   "source": [
    "alphabets = {k : chr(v) for k,v in enumerate(range(ord('A'), ord('Z') + 1))  }\n",
    "inverted_alphebtes = {  chr(v):k for k,v in enumerate(range(ord('A'), ord('Z') + 1))  }"
   ]
  },
  {
   "cell_type": "code",
   "execution_count": 222,
   "metadata": {
    "collapsed": true
   },
   "outputs": [],
   "source": [
    "message = \"ABCDEFGHIJKLMNOP\""
   ]
  },
  {
   "cell_type": "code",
   "execution_count": 252,
   "metadata": {
    "collapsed": false
   },
   "outputs": [],
   "source": [
    "def init_tth(message):\n",
    "    \"\"\" Divide the message to a certain number of block, each block has a size of 16 letters  \"\"\"\n",
    "    blocs = {}\n",
    "    blocs_num = {}\n",
    "    message = message.replace(\" \",\"\").upper()\n",
    "    msg = list(message)\n",
    "    length = len(msg)\n",
    "    i = 0\n",
    "    while True :\n",
    "        if (((length + i) % 16) == 0): \n",
    "            break\n",
    "        else :\n",
    "            i += 1\n",
    "    msg = msg + ['A']*i\n",
    "    for k,v in enumerate(range(0,len(msg), 16)):\n",
    "       blocs[k] = msg[k*16:k*16+16]\n",
    "    for k,v in enumerate(blocs.values()):\n",
    "        blocs_num[k] =  map(lambda e : inverted_alphebtes[e],v)\n",
    "        \n",
    "        \n",
    "    return blocs, blocs_num    "
   ]
  },
  {
   "cell_type": "code",
   "execution_count": 253,
   "metadata": {
    "collapsed": false
   },
   "outputs": [],
   "source": [
    "blocs, blocs_num = init_tth(message)"
   ]
  },
  {
   "cell_type": "code",
   "execution_count": 254,
   "metadata": {
    "collapsed": false
   },
   "outputs": [
    {
     "data": {
      "text/plain": [
       "{0: [0, 1, 2, 3, 4, 5, 6, 7, 8, 9, 10, 11, 12, 13, 14, 15]}"
      ]
     },
     "execution_count": 254,
     "metadata": {},
     "output_type": "execute_result"
    }
   ],
   "source": [
    "blocs_num"
   ]
  },
  {
   "cell_type": "code",
   "execution_count": 255,
   "metadata": {
    "collapsed": true
   },
   "outputs": [],
   "source": [
    "m1 = blocs_num[0]"
   ]
  },
  {
   "cell_type": "code",
   "execution_count": 256,
   "metadata": {
    "collapsed": false
   },
   "outputs": [
    {
     "data": {
      "text/plain": [
       "array([[ 0,  1,  2,  3],\n",
       "       [ 4,  5,  6,  7],\n",
       "       [ 8,  9, 10, 11],\n",
       "       [12, 13, 14, 15]])"
      ]
     },
     "execution_count": 256,
     "metadata": {},
     "output_type": "execute_result"
    }
   ],
   "source": [
    "np.array(m1).reshape((4,4))"
   ]
  },
  {
   "cell_type": "code",
   "execution_count": 257,
   "metadata": {
    "collapsed": false
   },
   "outputs": [
    {
     "data": {
      "text/plain": [
       "{0: [0, 1, 2, 3, 4, 5, 6, 7, 8, 9, 10, 11, 12, 13, 14, 15]}"
      ]
     },
     "execution_count": 257,
     "metadata": {},
     "output_type": "execute_result"
    }
   ],
   "source": [
    "hach = []\n",
    "blocs_num"
   ]
  },
  {
   "cell_type": "code",
   "execution_count": 264,
   "metadata": {
    "collapsed": false
   },
   "outputs": [],
   "source": [
    "#total = np.array([0]*4)\n",
    "i = 0 \n",
    "def tth(message, key = np.array([0]*4)):\n",
    "    global i \n",
    "    #print(\"gloabl i : {0}\".format(i))\n",
    "    m = np.array(message[i]).reshape((4,4))\n",
    "    sum_cols = np.sum(m,0)%26 \n",
    "    total_prime = (sum_cols + key )%26 \n",
    "    #print(total_prime)\n",
    "    for k,v in enumerate(m): \n",
    "        if (k != 3) :\n",
    "            m[k] = np.roll(v,-(k+1))\n",
    "        else: \n",
    "            m[k] = v[::-1]\n",
    "                \n",
    "    #print(m)\n",
    "    sum_cols2 = np.sum(m,0)%26\n",
    "    total = (total_prime + sum_cols2) %26\n",
    "    #print(\"total for M{0} is {1}\".format(i+1, total))\n",
    "    i = i + 1 \n",
    "    if (i <  len(message)  ): \n",
    "        #index += index \n",
    "        #print(\"{0} message {1}\".format(i, message[i]))\n",
    "        tth(message, total)\n",
    "    else : \n",
    "        print(\"total for M{0} is {1}\".format(i+1, total))\n",
    "        print( \"Hash is : {0}\".format(reduce(lambda p,n : p + n ,map(lambda e: alphabets[e],total))) )\n",
    "        i = 0\n",
    "\n",
    "    \n",
    "    "
   ]
  },
  {
   "cell_type": "code",
   "execution_count": 265,
   "metadata": {
    "collapsed": false
   },
   "outputs": [
    {
     "name": "stdout",
     "output_type": "stream",
     "text": [
      "total for M2 is [ 5  7  9 11]\n",
      "Hash is : FHJL\n"
     ]
    }
   ],
   "source": [
    "tth(blocs_num)\n"
   ]
  },
  {
   "cell_type": "code",
   "execution_count": 266,
   "metadata": {
    "collapsed": true
   },
   "outputs": [],
   "source": [
    "test = \"LE HASHAGE EST FACILE AVEC TTH\""
   ]
  },
  {
   "cell_type": "code",
   "execution_count": 267,
   "metadata": {
    "collapsed": false
   },
   "outputs": [
    {
     "data": {
      "text/plain": [
       "'LEHASHAGEESTFACILEAVECTTH'"
      ]
     },
     "execution_count": 267,
     "metadata": {},
     "output_type": "execute_result"
    }
   ],
   "source": [
    "test.replace(\" \",\"\")"
   ]
  },
  {
   "cell_type": "code",
   "execution_count": 268,
   "metadata": {
    "collapsed": false
   },
   "outputs": [
    {
     "name": "stdout",
     "output_type": "stream",
     "text": [
      "total for M3 is [10 14 15 23]\n",
      "Hash is : KOPX\n"
     ]
    }
   ],
   "source": [
    "blc , blc_number = init_tth(test)\n",
    "tth(blc_number)"
   ]
  },
  {
   "cell_type": "code",
   "execution_count": 269,
   "metadata": {
    "collapsed": false
   },
   "outputs": [
    {
     "name": "stdout",
     "output_type": "stream",
     "text": [
      "total for M3 is [ 8 12 16 20]\n",
      "Hash is : IMQU\n"
     ]
    }
   ],
   "source": [
    "text = \"ABCDEFGHIJKLMNOP QRSTUVWXYZABCDEF\"\n",
    "a,b = init_tth(text)\n",
    "tth(b)"
   ]
  },
  {
   "cell_type": "code",
   "execution_count": null,
   "metadata": {
    "collapsed": true
   },
   "outputs": [],
   "source": []
  }
 ],
 "metadata": {
  "anaconda-cloud": {},
  "kernelspec": {
   "display_name": "Python [default]",
   "language": "python",
   "name": "python2"
  },
  "language_info": {
   "codemirror_mode": {
    "name": "ipython",
    "version": 2
   },
   "file_extension": ".py",
   "mimetype": "text/x-python",
   "name": "python",
   "nbconvert_exporter": "python",
   "pygments_lexer": "ipython2",
   "version": "2.7.12"
  }
 },
 "nbformat": 4,
 "nbformat_minor": 1
}
