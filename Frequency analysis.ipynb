{
 "cells": [
  {
   "cell_type": "markdown",
   "metadata": {},
   "source": [
    "###  Cryptography"
   ]
  },
  {
   "cell_type": "code",
   "execution_count": 46,
   "metadata": {
    "collapsed": true
   },
   "outputs": [],
   "source": [
    "import functools # Because reduce isn't availabe in Python 3 "
   ]
  },
  {
   "cell_type": "code",
   "execution_count": 126,
   "metadata": {
    "collapsed": false
   },
   "outputs": [],
   "source": [
    "alphabets = {chr(v):k for k,v in enumerate(range(ord(\"a\"),ord(\"z\")+1))}\n",
    "inverted_alphabets = {v:k for k, v in alphabets.items()}"
   ]
  },
  {
   "cell_type": "code",
   "execution_count": 127,
   "metadata": {
    "collapsed": true
   },
   "outputs": [],
   "source": [
    "\n",
    "def frequences(txt_crypt): \n",
    "    frq = [0]*26\n",
    "    txt_crypt = list(txt_crypt.lower().replace(\" \",\"\"))\n",
    "    for c in txt_crypt: \n",
    "        frq[alphabets[c]] += 1\n",
    "    return frq\n",
    "def get_decalage(frq):\n",
    "    for i,v in enumerate(frq): \n",
    "        if frq[i] == max(frq): \n",
    "            return i - 4 \n",
    "    \n",
    "def clef(txt_crypt): \n",
    "    f = frequences(txt_crypt)\n",
    "    return get_decalage(f) \n",
    "\n",
    "def decodageAuto(txt_crypt): \n",
    "    cle = clef(txt_crypt)\n",
    "    txt_crypt = list(txt_crypt.lower().replace(\" \",\"\"))\n",
    "    txt_decrypt = ['']*len(txt_crypt)\n",
    "    for i,v in enumerate(txt_crypt): \n",
    "        txt_decrypt[i] = inverted_alphabets[(alphabets[v] - cle)%26]\n",
    "    return functools.reduce(lambda p,n : p+n, txt_decrypt)\n",
    "    \n",
    "    "
   ]
  },
  {
   "cell_type": "code",
   "execution_count": 128,
   "metadata": {
    "collapsed": true
   },
   "outputs": [],
   "source": [
    "message = \"cvbzhclgylbzzpslawjyfwavnyhwopl\""
   ]
  },
  {
   "cell_type": "code",
   "execution_count": 129,
   "metadata": {
    "collapsed": false
   },
   "outputs": [
    {
     "data": {
      "text/plain": [
       "'vousavezreussiletpcryptographie'"
      ]
     },
     "execution_count": 129,
     "metadata": {},
     "output_type": "execute_result"
    }
   ],
   "source": [
    "plain_text = decodageAuto(message)\n",
    "plain_text"
   ]
  },
  {
   "cell_type": "code",
   "execution_count": null,
   "metadata": {
    "collapsed": true
   },
   "outputs": [],
   "source": []
  }
 ],
 "metadata": {
  "kernelspec": {
   "display_name": "Python 3",
   "language": "python",
   "name": "python3"
  },
  "language_info": {
   "codemirror_mode": {
    "name": "ipython",
    "version": 3
   },
   "file_extension": ".py",
   "mimetype": "text/x-python",
   "name": "python",
   "nbconvert_exporter": "python",
   "pygments_lexer": "ipython3",
   "version": "3.6.0"
  }
 },
 "nbformat": 4,
 "nbformat_minor": 1
}
